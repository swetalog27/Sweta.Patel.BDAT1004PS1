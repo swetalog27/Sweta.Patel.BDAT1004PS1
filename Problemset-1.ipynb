{
 "cells": [
  {
   "cell_type": "markdown",
   "metadata": {},
   "source": [
    "# Question : 1\n",
    "\n",
    "What data type is each of the following?\n",
    "\n",
    "5\n",
    "\n",
    "Ans: int\n",
    "\n",
    "5.0\n",
    "\n",
    "Ans: float\n",
    "\n",
    "5 > 1\n",
    "\n",
    "Ans: Boolean\n",
    "\n",
    "'5'\n",
    "\n",
    "Ans: Character\n",
    "\n",
    "5 * 2\n",
    "\n",
    "Ans: Int\n",
    "    \n",
    "'5' * 2\n",
    "Ans: char\n",
    "\n",
    "'5' + '2'\n",
    "\n",
    "Ans: String\n",
    "\n",
    "5 / 2\n",
    "Ans: Float\n",
    "\n",
    "5 % 2\n",
    "\n",
    "Ans: Float\n",
    "\n",
    "{5, 2, 1}\n",
    "\n",
    "Ans: Array\n",
    "\n",
    "5 == 3\n",
    "\n",
    "Ans: boolean\n",
    "\n",
    "Pi (the number)\n",
    "\n",
    "Ans: Double"
   ]
  },
  {
   "cell_type": "markdown",
   "metadata": {},
   "source": [
    "# Question 2 C#\n",
    "    \n",
    "Write (and evaluate) C# expressions that answer these questions:\n",
    "   \n",
    "a. How many letters are there in 'Supercalifragilisticexpialidocious'?\n",
    "\n",
    "b. Does 'Supercalifragilisticexpialidocious' contain 'ice' as a substring?\n",
    "\n",
    "c. Which of the following words is the longest: Supercalifragilisticexpialidocious, Honorificabilitudinitatibus, or Bababadalgharaghtakamminarronnkonn?\n",
    "\n",
    "d. Which composer comes first in the dictionary: 'Berlioz', 'Borodin', 'Brian', 'Bartok', 'Bellini', 'Buxtehude', 'Bernstein'. Which one comes last?"
   ]
  },
  {
   "cell_type": "markdown",
   "metadata": {},
   "source": [
    "a.How many letters are there in 'Supercalifragilisticexpialidocious'?\n"
   ]
  },
  {
   "cell_type": "code",
   "execution_count": null,
   "metadata": {},
   "outputs": [],
   "source": [
    "using System;\n",
    "\n",
    "public class ConsoleApp3\n",
    "{\n",
    "    public static void Main()\n",
    "    {\n",
    "       var stringName = \"Supercalifragilisticexpialidocious\";\n",
    "          int length = stringName.Length;\n",
    "          Console.WriteLine(length)\n",
    "          \n",
    "    }   \n",
    "}"
   ]
  },
  {
   "attachments": {},
   "cell_type": "markdown",
   "metadata": {},
   "source": [
    "34\n",
    " "
   ]
  },
  {
   "cell_type": "markdown",
   "metadata": {},
   "source": [
    "b.  Does 'Supercalifragilisticexpialidocious' contain 'ice' as a substring?"
   ]
  },
  {
   "cell_type": "code",
   "execution_count": null,
   "metadata": {},
   "outputs": [],
   "source": [
    "using System;\n",
    "\n",
    "public class ConsoleApp2\n",
    "{\n",
    "    public static void Main()\n",
    "    {\n",
    "        String mainstring = \"Supercalifragilisticexpialidocious\";\n",
    "\n",
    "        String substring = \"ice\";\n",
    "\n",
    "       Boolean  is_contains = mainstring.Contains(\"ice\"); \n",
    "\n",
    "\n",
    "        if (is_contains)\n",
    "        {\n",
    "            Console.WriteLine(\"Substring present\"); \n",
    "        }\n",
    "\n",
    "        else\n",
    "        {\n",
    "            Console.WriteLine(\"Substring is not present\");\n",
    "\n",
    "        }\n",
    "    }\n",
    "}"
   ]
  },
  {
   "attachments": {
    "Capture%209.PNG": {
     "image/png": "[encoded data removed]"
    }
   },
   "cell_type": "markdown",
   "metadata": {},
   "source": [
    "![Capture%209.PNG](attachment:Capture%209.PNG)"
   ]
  },
  {
   "cell_type": "markdown",
   "metadata": {},
   "source": [
    "\n",
    "c. Which of the following words is the longest: Supercalifragilisticexpialidocious, Honorificabilitudinitatibus,or          Bababadalgharaghtakamminarronnkonn?"
   ]
  },
  {
   "cell_type": "code",
   "execution_count": null,
   "metadata": {},
   "outputs": [],
   "source": [
    "using System;\n",
    "using System.Linq;\n",
    "class ConsoleApp7\n",
    "{\n",
    "\n",
    "   public static void Main(string[] args)\n",
    "    {\n",
    "         string strData = \"Supercalifragilisticexpialidocious, Honorificabilitudinitatibus,or Bababadalgharaghtakamminarronnkonn\";\n",
    "              string[] words = strData.Split(new[] { \" \" }, StringSplitOptions.None);\n",
    "              String word = \"\";\n",
    "              int tr = 0;\n",
    "              foreach(string s in words)\n",
    "              {\n",
    "                if (s.Length>tr)\n",
    "                {\n",
    "                    word = s;\n",
    "                    tr = s.Length;\n",
    "                }\n",
    "              }\n",
    "\n",
    "            Console.WriteLine(\"The logest word is \" + word);\n",
    "            Console.ReadLine();\n",
    "    }\n",
    "}   "
   ]
  },
  {
   "attachments": {
    "p7.PNG": {
     "image/png": "[encoded data removed]"
    }
   },
   "cell_type": "markdown",
   "metadata": {},
   "source": [
    "![p7.PNG](attachment:p7.PNG)"
   ]
  },
  {
   "cell_type": "markdown",
   "metadata": {},
   "source": [
    "d. Which composer comes first in the dictionary: 'Berlioz', 'Borodin', 'Brian', 'Bartok', 'Bellini', 'Buxtehude', 'Bernstein'. Which one comes last?"
   ]
  },
  {
   "cell_type": "code",
   "execution_count": null,
   "metadata": {},
   "outputs": [],
   "source": [
    "using System;\n",
    "using System.Collections.Generic;\n",
    "\n",
    "namespace ConsoleApp6\n",
    "{\n",
    "    class Program\n",
    "    {\n",
    "        static void Main(string[] args)\n",
    "        {\n",
    "            var Words = new List<string> { \"Berlioz\", \"Borodin\", \"Brian\", \"Bartok\", \"Bellini\", \"Buxtehude\", \"Bernstein\" };\n",
    "            Words.Sort();\n",
    "            Console.WriteLine(string.Join(\",\", Words));\n",
    "\n",
    "            Words.Reverse();\n",
    "            Console.WriteLine(string.Join(\",\", Words));\n",
    "            Console.ReadLine();\n",
    "        }\n",
    "    }\n",
    "}\n"
   ]
  },
  {
   "attachments": {
    "3%28D%29.PNG": {
     "image/png": "[encoded data removed]"
    }
   },
   "cell_type": "markdown",
   "metadata": {},
   "source": [
    "![3%28D%29.PNG](attachment:3%28D%29.PNG)"
   ]
  },
  {
   "cell_type": "markdown",
   "metadata": {},
   "source": [
    " # Question 3 C# \n",
    " \n",
    "Implement function triangleArea(a,b,c) that takes as input the lengths of the 3 sides of a triangle and returns the area of the triangle. By Heron's formula, the area of a triangle with side lengths a, b, and c is s(s - a)(s -b)(s -c) , where s = (a+b+c)/2."
   ]
  },
  {
   "cell_type": "code",
   "execution_count": null,
   "metadata": {},
   "outputs": [],
   "source": [
    "using System;\n",
    "\n",
    "namespace TriangleArea\n",
    "{\n",
    "    public class TriangleArea\n",
    "    {\n",
    "        public static void Main(string[] args)\n",
    "        {\n",
    "            double s, area;\n",
    "            double a, b, c;\n",
    "\n",
    "            Console.WriteLine(\"Enter side a\"); \n",
    "            a = double.Parse(Console.ReadLine());\n",
    "\n",
    "            Console.WriteLine(\"Enter side b\"); \n",
    "            b = double.Parse(Console.ReadLine());\n",
    "\n",
    "            Console.WriteLine(\"Enter side c\");\n",
    "            c = double.Parse(Console.ReadLine()); \n",
    "\n",
    "            s = (a + b + c) / 2;\n",
    "            area = Math.Sqrt(s * (s - a) * (s - b) * (s - c));\n",
    "\n",
    "            Console.WriteLine(\"Area = {0}\", area);\n",
    "        }\n",
    "    }\n",
    "}"
   ]
  },
  {
   "attachments": {
    "p5.PNG": {
     "image/png": "[encoded data removed]"
    }
   },
   "cell_type": "markdown",
   "metadata": {},
   "source": [
    "![p5.PNG](attachment:p5.PNG)"
   ]
  },
  {
   "cell_type": "markdown",
   "metadata": {},
   "source": [
    "# Question 4 C#\n",
    "\n",
    "Write a program in C# Sharp to separate odd and even integers in separate arrays.\n",
    "Go to the editor\n",
    "Test Data :\n",
    "Input the number of elements to be stored in the array :5\n",
    "Input 5 elements in the array :\n",
    "element - 0 : 25\n",
    "element - 1 : 47\n",
    "element - 2 : 42\n",
    "element - 3 : 56\n",
    "element - 4 : 32"
   ]
  },
  {
   "cell_type": "code",
   "execution_count": null,
   "metadata": {},
   "outputs": [],
   "source": [
    "using System;\n",
    "\n",
    "namespace ConsoleApp4\n",
    "{\n",
    "    class Program\n",
    "    {\n",
    "        public static void Main()\n",
    "        {\n",
    "            int[] arr1 = new int[10];\n",
    "            int[] arr2 = new int[10];\n",
    "            int[] arr3 = new int[10];\n",
    "            \n",
    "            int i, j = 0, k = 0, n;\n",
    "\n",
    "\n",
    "            Console.Write(\"\\n\\nSeparate odd and even integers in separate arrays:\\n\");\n",
    "            Console.Write(\"------------------------------------------------------\\n\");\n",
    "\n",
    "            Console.Write(\"Input the number of elements to be stored in the array :\");\n",
    "            n = Convert.ToInt32(Console.ReadLine());\n",
    "\n",
    "            Console.Write(\"Input {0} elements in the array :\\n\", n);\n",
    "            for (i = 0; i < n; i++)\n",
    "            {\n",
    "                Console.Write(\"element - {0} : \", i);\n",
    "                arr1[i] = Convert.ToInt32(Console.ReadLine());\n",
    "            }\n",
    "\n",
    "            for (i = 0; i < n; i++)\n",
    "            {\n",
    "                if (arr1[i] % 2 == 0)\n",
    "                {\n",
    "                    arr2[j] = arr1[i];\n",
    "                    j++;\n",
    "                }\n",
    "                else\n",
    "                {\n",
    "                    arr3[k] = arr1[i];\n",
    "                    k++;\n",
    "                }\n",
    "            }\n",
    "\n",
    "            Console.Write(\"\\nThe Even elements are : \\n\");\n",
    "            for (i = 0; i < j; i++)\n",
    "            {\n",
    "                Console.Write(\"{0} \", arr2[i]);\n",
    "            }\n",
    "\n",
    "            Console.Write(\"\\nThe Odd elements are :\\n\");\n",
    "            for (i = 0; i < k; i++)\n",
    "            {\n",
    "                Console.Write(\"{0} \", arr3[i]);\n",
    "            }\n",
    "            Console.Write(\"\\n\\n\");\n",
    "        }\n",
    "    }\n",
    "}\n",
    "    "
   ]
  },
  {
   "attachments": {
    "p2.PNG": {
     "image/png": "[encoded data removed]"
    }
   },
   "cell_type": "markdown",
   "metadata": {},
   "source": [
    "![p2.PNG](attachment:p2.PNG)"
   ]
  },
  {
   "cell_type": "markdown",
   "metadata": {},
   "source": [
    "# Question 5 C#\n",
    "\n",
    "a. Write a function inside(x,y,x1,y1,x2,y2) that returns True or False depending on whether the point (x,y) lies in the rectangle with lower left corner (x1,y1) and upper right corner (x2,y2).\n"
   ]
  },
  {
   "cell_type": "code",
   "execution_count": null,
   "metadata": {},
   "outputs": [],
   "source": [
    "using System;\n",
    "\n",
    "class program\n",
    "{\n",
    "    static bool inside (int x, int y,int x1, int y1, int x2,\n",
    "                          int y2)\n",
    "    {\n",
    "        if (x > x1 && x < x2 & y > y1 && y < y2)\n",
    "            return true;\n",
    "\n",
    "        return false;\n",
    "    }\n",
    "    public static void Main()\n",
    "    {\n",
    "        \n",
    "        int x = 1, y = 1; // Point to be found\n",
    "\n",
    "        int x1 = 0, y1 = 0, // lower left\n",
    "            x2 = 2, y2 = 3; // upper right\n",
    "       \n",
    "\n",
    "        // function call \n",
    "        if (inside (x, y, x1, y1, x2, y2))\n",
    "            Console.Write(\"True\");\n",
    "        else\n",
    "            Console.Write(\"False\");\n",
    "    }\n",
    "}"
   ]
  },
  {
   "attachments": {
    "p8.PNG": {
     "image/png": "[encoded data removed]"
    }
   },
   "cell_type": "markdown",
   "metadata": {},
   "source": [
    "![p8.PNG](attachment:p8.PNG)"
   ]
  },
  {
   "cell_type": "code",
   "execution_count": null,
   "metadata": {},
   "outputs": [],
   "source": [
    "using System;\n",
    "\n",
    "class program\n",
    "{\n",
    "    static bool inside (int x, int y,int x1, int y1, int x2,\n",
    "                          int y2)\n",
    "    {\n",
    "        if (x > x1 && x < x2 & y > y1 && y < y2)\n",
    "            return true;\n",
    "\n",
    "        return false;\n",
    "    }\n",
    "    public static void Main()\n",
    "    {\n",
    "        \n",
    "        int x = -1, y = -1; // Point to be found\n",
    "\n",
    "        int x1 = 0, y1 = 0, // lower left\n",
    "            x2 = 2, y2 = 3; // upper right\n",
    "       \n",
    "\n",
    "        // function call \n",
    "        if (inside (x, y, x1, y1, x2, y2))\n",
    "            Console.Write(\"True\");\n",
    "        else\n",
    "            Console.Write(\"False\");\n",
    "    }\n",
    "}"
   ]
  },
  {
   "attachments": {
    "5c.PNG": {
     "image/png": "[encoded data removed]"
    }
   },
   "cell_type": "markdown",
   "metadata": {},
   "source": [
    "![5c.PNG](attachment:5c.PNG)"
   ]
  },
  {
   "cell_type": "markdown",
   "metadata": {},
   "source": [
    "b. Use function inside() from part a. to write an expression that tests whether the point (1,1) lies in both of the following rectangles: one with lower left corner (0.3, 0.5) and upper right corner (1.1, 0.7) and the other with lower left corner (0.5, 0.2) and upper right corner (1.1, 2)."
   ]
  },
  {
   "cell_type": "code",
   "execution_count": null,
   "metadata": {},
   "outputs": [],
   "source": [
    "using System;\n",
    "\n",
    "class program\n",
    "{\n",
    "    static bool inside (double x, double y,double x1, double y1, double x2,\n",
    "                          double y2)\n",
    "    {\n",
    "        if (x > x1 && x < x2 & y > y1 && y < y2)\n",
    "            return true;\n",
    "\n",
    "        return false;\n",
    "    }\n",
    "    public static void Main()\n",
    "    {\n",
    "        \n",
    "        double x = 1, y = 1; // Point to be found\n",
    "\n",
    "        double x1 = 0.3, y1 = 0.5; // lower left\n",
    "         double x2 = 1.1, y2 = 0.7; // upper right\n",
    "       \n",
    "\n",
    "        // function call \n",
    "        if (inside (x, y, x1, y1, x2, y2))\n",
    "            Console.Write(\"True\");\n",
    "        else\n",
    "            Console.Write(\"False\");\n",
    "    }\n",
    "}"
   ]
  },
  {
   "attachments": {
    "5c.PNG": {
     "image/png": "[encoded data removed]"
    }
   },
   "cell_type": "markdown",
   "metadata": {},
   "source": [
    "![5c.PNG](attachment:5c.PNG)"
   ]
  },
  {
   "cell_type": "code",
   "execution_count": null,
   "metadata": {},
   "outputs": [],
   "source": [
    "using System;\n",
    "\n",
    "class program\n",
    "{\n",
    "    static bool inside (double x, double y,double x1, double y1, double x2,\n",
    "                          double y2)\n",
    "    {\n",
    "        if (x > x1 && x < x2 & y > y1 && y < y2)\n",
    "            return true;\n",
    "\n",
    "        return false;\n",
    "    }\n",
    "    public static void Main()\n",
    "    {\n",
    "        \n",
    "        double x = 1, y = 1; // Point to be found\n",
    "\n",
    "        double x1 = 0.5, y1 = 0.2; // lower left\n",
    "         double x2 = 1.1, y2 = 2; // upper right\n",
    "       \n",
    "\n",
    "        // function call \n",
    "        if (inside (x, y, x1, y1, x2, y2))\n",
    "            Console.Write(\"True\");\n",
    "        else\n",
    "            Console.Write(\"False\");\n",
    "    }\n",
    "}"
   ]
  },
  {
   "attachments": {
    "p10.PNG": {
     "image/png": "[encoded data removed]"
    }
   },
   "cell_type": "markdown",
   "metadata": {},
   "source": [
    "![p10.PNG](attachment:p10.PNG)"
   ]
  },
  {
   "cell_type": "markdown",
   "metadata": {},
   "source": [
    "# Question 6 Python\n",
    "\n",
    "You can turn a word into pig-Latin using the following two rules (simplified): • If the word starts with a consonant, move that letter to the end and append 'ay'. For example, 'happy' becomes 'appyhay' and 'pencil' becomes 'encilpay'. • If the word starts with a vowel, simply append 'way' to the end of the word. For example, 'enter' becomes 'enterway' and 'other' becomes 'otherway' . For our purposes, there are 5 vowels: a, e, i, o, u (so we count y as a consonant). Write a function pig() that takes a word (i.e., a string) as input and returns its pigLatin form. Your function should still work if the input word contains upper case characters. Your output should always be lower case however.\n"
   ]
  },
  {
   "cell_type": "code",
   "execution_count": 5,
   "metadata": {},
   "outputs": [
    {
     "name": "stdout",
     "output_type": "stream",
     "text": [
      "appyhay\n",
      "enterway\n"
     ]
    }
   ],
   "source": [
    "vowels = ['a','e','i','o','u','E']\n",
    "\n",
    "def pig(word):\n",
    "\n",
    " length = len(word)\n",
    "\n",
    " first = word[0]\n",
    "\n",
    " if first in vowels:\n",
    "\n",
    "  print(word.lower() + \"way\")\n",
    "\n",
    " else:\n",
    "\n",
    "  print(word[1:length].lower() + word[0].lower() + \"ay\")      \n",
    "\n",
    "pig(\"Happy\")\n",
    "pig('Enter')\n"
   ]
  },
  {
   "cell_type": "markdown",
   "metadata": {},
   "source": [
    "# Question 7 Python\n",
    "\n",
    "File bloodtype1.txt records blood-types of patients (A, B, AB, O or OO) at a clinic.\n",
    "Write a function bldcount() that reads the file with name name and reports (i.e.,\n",
    "prints) how many patients there are in each bloodtype.\n",
    "\n",
    "bldcount('bloodtype.txt')\n",
    "There are 10 patients of blood type A.\n",
    "There is one patient of blood type B.\n",
    "There are 10 patients of blood type AB.\n",
    "There are 12 patients of blood type O.\n",
    "There are no patients of blood type OO."
   ]
  },
  {
   "cell_type": "code",
   "execution_count": 16,
   "metadata": {},
   "outputs": [
    {
     "name": "stdout",
     "output_type": "stream",
     "text": [
      "There are 15 patients of blood type A\n",
      "There are 1 patients of blood type B\n",
      "There are 13 patients of blood type AB\n",
      "There are 15 patients of blood type O\n",
      "There are 0 patients of blood type OO\n"
     ]
    }
   ],
   "source": [
    "bloodtypelist=['A','B','AB','O','OO']\n",
    "f = open('bloodtype1.txt').read().split()\n",
    "countlist = []\n",
    "for i in bloodtypelist:\n",
    "    number_of_times = 0\n",
    "    for j in f:\n",
    "        if i == j:\n",
    "            number_of_times += 1\n",
    "        countlist.append(number_of_times)\n",
    "    print('There are '+str(number_of_times)+' patients of blood type '+i)   "
   ]
  },
  {
   "cell_type": "markdown",
   "metadata": {},
   "source": [
    "# Question 8 Python\n",
    "\n",
    "Write a function curconv() that takes as input:\n",
    "    \n",
    "1. a currency represented using a string (e.g., 'JPY' for the Japanese Yen or 'EUR' for the Euro)\n",
    "2. an amount \n",
    "\n",
    "then converts and returns the amount in US dollars.\n",
    "\n",
    "The currency rates you will need are stored in file currencies.txt:\n",
    "AUD 1.0345157 Australian Dollar\n",
    "CHF 1.0237414 Swiss Franc\n",
    "CNY 0.1550176 Chinese Yuan\n",
    "DKK 0.1651442 Danish Krone\n",
    "EUR 1.2296544 Euro\n",
    "GBP 1.5550989 British Pound\n",
    "HKD 0.1270207 Hong Kong Dollar\n",
    "INR 0.0177643 Indian Rupee\n",
    "JPY 0.01241401 Japanese Yen\n",
    "MXN 0.0751848 Mexican Peso\n",
    "MYR 0.3145411 Malaysian Ringgit\n",
    "NOK 0.1677063 Norwegian Krone\n",
    "NZD 0.8003591 New Zealand Dollar\n",
    "PHP 0.0233234 Philippine Peso\n",
    "SEK 0.148269 Swedish Krona\n",
    "SGD 0.788871 Singapore Dollar\n",
    "THB 0.0313789 Thai Baht\n"
   ]
  },
  {
   "cell_type": "code",
   "execution_count": 10,
   "metadata": {},
   "outputs": [
    {
     "name": "stdout",
     "output_type": "stream",
     "text": [
      "122.96544\n",
      "1.241401\n"
     ]
    }
   ],
   "source": [
    "f = open('Currencies.txt')\n",
    "currency_map = {}\n",
    "for i in f:\n",
    "    line = i.split(\"\\t\")\n",
    "    currency_map[line[0]] = float(line[1])\n",
    "\n",
    "\n",
    "def curconv(cur , amount):\n",
    "    if cur in currency_map.keys():\n",
    "        print(currency_map[cur] * float(amount))\n",
    "               \n",
    "curconv('EUR',100)\n",
    "curconv('JPY', 100)"
   ]
  },
  {
   "cell_type": "markdown",
   "metadata": {},
   "source": [
    "# Question 9 Python\n",
    "\n",
    "Each of the following will cause an exception (an error). Identify what type of \n",
    "exception each will cause.\n",
    "\n",
    "Trying to add incompatible variables, as in \n",
    "adding 6 + ‘a’\n",
    "\n",
    "Referring to the 12th item of a list that has only 10 items\n",
    "\n",
    "Using a value that is out of range for a function’s \n",
    "input, such as calling math.sqrt(-1.0)\n",
    "\n",
    "Using an undeclared variable, such as print(x)\n",
    "when x has not been defined\n",
    "\n",
    "Trying to open a file that does not exist, such as \n",
    "mistyping the file name or looking in the wrong directory."
   ]
  },
  {
   "cell_type": "code",
   "execution_count": 11,
   "metadata": {},
   "outputs": [
    {
     "ename": "TypeError",
     "evalue": "unsupported operand type(s) for +: 'int' and 'str'",
     "output_type": "error",
     "traceback": [
      "\u001b[1;31m---------------------------------------------------------------------------\u001b[0m",
      "\u001b[1;31mTypeError\u001b[0m                                 Traceback (most recent call last)",
      "\u001b[1;32m<ipython-input-11-63a7ed804344>\u001b[0m in \u001b[0;36m<module>\u001b[1;34m\u001b[0m\n\u001b[1;32m----> 1\u001b[1;33m \u001b[1;36m6\u001b[0m \u001b[1;33m+\u001b[0m \u001b[1;34m'a'\u001b[0m\u001b[1;33m\u001b[0m\u001b[1;33m\u001b[0m\u001b[0m\n\u001b[0m",
      "\u001b[1;31mTypeError\u001b[0m: unsupported operand type(s) for +: 'int' and 'str'"
     ]
    }
   ],
   "source": [
    "6 + 'a'"
   ]
  },
  {
   "cell_type": "code",
   "execution_count": 12,
   "metadata": {},
   "outputs": [
    {
     "ename": "IndexError",
     "evalue": "list index out of range",
     "output_type": "error",
     "traceback": [
      "\u001b[1;31m---------------------------------------------------------------------------\u001b[0m",
      "\u001b[1;31mIndexError\u001b[0m                                Traceback (most recent call last)",
      "\u001b[1;32m<ipython-input-12-8899ba6e0005>\u001b[0m in \u001b[0;36m<module>\u001b[1;34m\u001b[0m\n\u001b[0;32m      1\u001b[0m \u001b[0miteam\u001b[0m \u001b[1;33m=\u001b[0m \u001b[1;33m[\u001b[0m\u001b[1;34m'a'\u001b[0m\u001b[1;33m,\u001b[0m\u001b[1;34m'b'\u001b[0m\u001b[1;33m,\u001b[0m\u001b[1;34m'c'\u001b[0m\u001b[1;33m,\u001b[0m\u001b[1;34m'd'\u001b[0m\u001b[1;33m,\u001b[0m\u001b[1;34m'e'\u001b[0m\u001b[1;33m,\u001b[0m\u001b[1;34m'f'\u001b[0m\u001b[1;33m,\u001b[0m\u001b[1;34m'g'\u001b[0m\u001b[1;33m,\u001b[0m\u001b[1;34m'h'\u001b[0m\u001b[1;33m,\u001b[0m\u001b[1;34m'i'\u001b[0m\u001b[1;33m,\u001b[0m\u001b[1;34m'j'\u001b[0m\u001b[1;33m]\u001b[0m\u001b[1;33m\u001b[0m\u001b[1;33m\u001b[0m\u001b[0m\n\u001b[1;32m----> 2\u001b[1;33m \u001b[0miteam\u001b[0m \u001b[1;33m[\u001b[0m\u001b[1;36m12\u001b[0m\u001b[1;33m]\u001b[0m\u001b[1;33m\u001b[0m\u001b[1;33m\u001b[0m\u001b[0m\n\u001b[0m",
      "\u001b[1;31mIndexError\u001b[0m: list index out of range"
     ]
    }
   ],
   "source": [
    "iteam = ['a','b','c','d','e','f','g','h','i','j']\n",
    "iteam[12]"
   ]
  },
  {
   "cell_type": "code",
   "execution_count": 13,
   "metadata": {},
   "outputs": [
    {
     "ename": "NameError",
     "evalue": "name 'math' is not defined",
     "output_type": "error",
     "traceback": [
      "\u001b[1;31m---------------------------------------------------------------------------\u001b[0m",
      "\u001b[1;31mNameError\u001b[0m                                 Traceback (most recent call last)",
      "\u001b[1;32m<ipython-input-13-7ff522030b8c>\u001b[0m in \u001b[0;36m<module>\u001b[1;34m\u001b[0m\n\u001b[1;32m----> 1\u001b[1;33m \u001b[0mmath\u001b[0m\u001b[1;33m.\u001b[0m\u001b[0msqrt\u001b[0m\u001b[1;33m(\u001b[0m\u001b[1;33m-\u001b[0m\u001b[1;36m1.0\u001b[0m\u001b[1;33m)\u001b[0m\u001b[1;33m\u001b[0m\u001b[1;33m\u001b[0m\u001b[0m\n\u001b[0m",
      "\u001b[1;31mNameError\u001b[0m: name 'math' is not defined"
     ]
    }
   ],
   "source": [
    "math.sqrt(-1.0)"
   ]
  },
  {
   "cell_type": "code",
   "execution_count": 14,
   "metadata": {},
   "outputs": [
    {
     "ename": "NameError",
     "evalue": "name 'x' is not defined",
     "output_type": "error",
     "traceback": [
      "\u001b[1;31m---------------------------------------------------------------------------\u001b[0m",
      "\u001b[1;31mNameError\u001b[0m                                 Traceback (most recent call last)",
      "\u001b[1;32m<ipython-input-14-fc17d851ef81>\u001b[0m in \u001b[0;36m<module>\u001b[1;34m\u001b[0m\n\u001b[1;32m----> 1\u001b[1;33m \u001b[0mprint\u001b[0m\u001b[1;33m(\u001b[0m\u001b[0mx\u001b[0m\u001b[1;33m)\u001b[0m\u001b[1;33m\u001b[0m\u001b[1;33m\u001b[0m\u001b[0m\n\u001b[0m",
      "\u001b[1;31mNameError\u001b[0m: name 'x' is not defined"
     ]
    }
   ],
   "source": [
    "print(x)"
   ]
  },
  {
   "cell_type": "code",
   "execution_count": 15,
   "metadata": {},
   "outputs": [
    {
     "ename": "FileNotFoundError",
     "evalue": "[Errno 2] No such file or directory: 'wrongname.txt'",
     "output_type": "error",
     "traceback": [
      "\u001b[1;31m---------------------------------------------------------------------------\u001b[0m",
      "\u001b[1;31mFileNotFoundError\u001b[0m                         Traceback (most recent call last)",
      "\u001b[1;32m<ipython-input-15-e388f6bbc38c>\u001b[0m in \u001b[0;36m<module>\u001b[1;34m\u001b[0m\n\u001b[1;32m----> 1\u001b[1;33m \u001b[0mf\u001b[0m \u001b[1;33m=\u001b[0m \u001b[0mopen\u001b[0m\u001b[1;33m(\u001b[0m\u001b[1;34m\"wrongname.txt\"\u001b[0m\u001b[1;33m)\u001b[0m\u001b[1;33m\u001b[0m\u001b[1;33m\u001b[0m\u001b[0m\n\u001b[0m",
      "\u001b[1;31mFileNotFoundError\u001b[0m: [Errno 2] No such file or directory: 'wrongname.txt'"
     ]
    }
   ],
   "source": [
    "f = open(\"wrongname.txt\")"
   ]
  },
  {
   "cell_type": "markdown",
   "metadata": {},
   "source": [
    "# Question 10 Python\n",
    "\n",
    "Encryption is the process of hiding the meaning of a text by substituting letters in the message with other letters, according to some system. If the process is successful, no one but the intended recipient can understand the encrypted message. Cryptanalysis refers to attempts to undo the encryption, even if some details of the encryption are unknown (for example, if an encrypted message has been intercepted). The first step of cryptanalysis is often to build up a table of letter frequencies in the encrypted text. Assume that the string letters is already defined as 'abcdefghijklmnopqrstuvwxyz'. Write a function called frequencies() that takes a string as its only parameter, and returns a list of integers, showing the number of times each character appears in the text. Your function may ignore any characters that are not in letters.\n",
    "\n",
    "frequencies('The quick red fox got bored and went home.')[1, 1, 1, 3, 5, 1, 1, 2, 1, 0, 1, 0, 1, 2, 4, 0, 1, 2, 0, 2, 1, 0, 1, 1, 0, 0]\n",
    "\n",
    "frequencies('apple')"
   ]
  },
  {
   "cell_type": "code",
   "execution_count": 16,
   "metadata": {},
   "outputs": [
    {
     "name": "stdout",
     "output_type": "stream",
     "text": [
      "[1, 1, 1, 3, 5, 1, 1, 2, 1, 0, 1, 0, 1, 2, 4, 0, 1, 2, 0, 2, 1, 0, 1, 1, 0, 0]\n",
      "[1, 0, 0, 0, 1, 0, 0, 0, 0, 0, 0, 1, 0, 0, 0, 2, 0, 0, 0, 0, 0, 0, 0, 0, 0, 0]\n"
     ]
    }
   ],
   "source": [
    "def frequencies(text):\n",
    "    albets='abcdefghijklmnopqrstuvwxyz'\n",
    "    freq = []\n",
    "    for i in albets:\n",
    "        number_of_times = 0\n",
    "        for j in text:\n",
    "            if i == j:\n",
    "                number_of_times += 1\n",
    "        freq.append(number_of_times)\n",
    "    print(freq)\n",
    "        \n",
    "frequencies('The quick red fox got bored and went home.')\n",
    "frequencies('apple') "
   ]
  },
  {
   "cell_type": "code",
   "execution_count": null,
   "metadata": {},
   "outputs": [],
   "source": []
  }
 ],
 "metadata": {
  "kernelspec": {
   "display_name": "Python 3",
   "language": "python",
   "name": "python3"
  },
  "language_info": {
   "codemirror_mode": {
    "name": "ipython",
    "version": 3
   },
   "file_extension": ".py",
   "mimetype": "text/x-python",
   "name": "python",
   "nbconvert_exporter": "python",
   "pygments_lexer": "ipython3",
   "version": "3.8.5"
  }
 },
 "nbformat": 4,
 "nbformat_minor": 4
}
